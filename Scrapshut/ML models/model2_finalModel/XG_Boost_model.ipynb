{
 "cells": [
  {
   "cell_type": "code",
   "execution_count": 9,
   "metadata": {},
   "outputs": [],
   "source": [
    "'''\n",
    "CNN on kaggle fake news dataset \n",
    "'''\n",
    "import pandas as pd\n",
    "import numpy as np\n",
    "import random\n",
    "import keras\n",
    "from keras.models import Sequential\n",
    "from keras.layers import Dense\n",
    "from keras.models import model_from_json\n",
    "import os\n",
    "def load_kagglefakenews():\n",
    "  \n",
    "    df = pd.read_csv('Kaggle_FakeNews/train.csv', nrows=10000, encoding='utf8')\n",
    "    train_data = df['text'].values.tolist() \n",
    "    train_labels = df['label'].values.tolist() \n",
    "\n",
    "\n",
    "    combo = list(zip(train_data, train_labels))\n",
    "    random.shuffle(combo)\n",
    "    train_data, train_labels = zip(*combo)\n",
    "    del df\n",
    "\n",
    "    return np.asarray(train_data).tolist(), np.asarray(train_labels).tolist()"
   ]
  },
  {
   "cell_type": "code",
   "execution_count": 10,
   "metadata": {},
   "outputs": [],
   "source": [
    "train_data, train_labels = load_kagglefakenews()"
   ]
  },
  {
   "cell_type": "code",
   "execution_count": 11,
   "metadata": {},
   "outputs": [],
   "source": [
    "from keras.preprocessing.text import Tokenizer\n",
    "from keras.preprocessing.sequence import pad_sequences\n",
    "from keras.layers import Embedding\n",
    "from keras.utils import to_categorical\n",
    "import pickle\n",
    "\n",
    "MAX_NB_WORDS=50000 #dictionary size\n",
    "MAX_SEQUENCE_LENGTH=1500 #max word length of each individual article\n",
    "EMBEDDING_DIM=300 #dimensionality of the embedding vector (50, 100, 200, 300)\n",
    "tokenizer = Tokenizer(num_words=MAX_NB_WORDS, filters='!\"#$%&()*+,-./:;<=>?@[\\]^_`{|}~')\n",
    "\n",
    "def tokenize_trainingdata(texts, labels):\n",
    "    tokenizer.fit_on_texts(texts)\n",
    "    pickle.dump(tokenizer, open('Models/tokenizer.p', 'wb'))\n",
    "\n",
    "    sequences = tokenizer.texts_to_sequences(texts)\n",
    "\n",
    "    word_index = tokenizer.word_index\n",
    "    print('Found %s unique tokens.' % len(word_index))\n",
    "\n",
    "    data = pad_sequences(sequences, maxlen=MAX_SEQUENCE_LENGTH)\n",
    "\n",
    "    labels = to_categorical(labels, num_classes=len(set(labels)))\n",
    "\n",
    "    return data, labels, word_index\n",
    "\n"
   ]
  },
  {
   "cell_type": "code",
   "execution_count": 12,
   "metadata": {},
   "outputs": [
    {
     "name": "stdout",
     "output_type": "stream",
     "text": [
      "Found 165537 unique tokens.\n"
     ]
    }
   ],
   "source": [
    "X, Y, word_index = tokenize_trainingdata(train_data, train_labels)    "
   ]
  },
  {
   "cell_type": "code",
   "execution_count": 13,
   "metadata": {},
   "outputs": [],
   "source": [
    "#splitting the data (90% train, 5% test, 5% validation)\n",
    "train_data = X[:int(len(X)*0.9)]\n",
    "train_labels = Y[:int(len(X)*0.9)]\n",
    "test_data = X[int(len(X)*0.9):int(len(X)*0.95)]\n",
    "test_labels = Y[int(len(X)*0.9):int(len(X)*0.95)]\n",
    "valid_data = X[int(len(X)*0.95):]\n",
    "valid_labels = Y[int(len(X)*0.95):]"
   ]
  },
  {
   "cell_type": "code",
   "execution_count": 14,
   "metadata": {},
   "outputs": [
    {
     "name": "stdout",
     "output_type": "stream",
     "text": [
      "Found 400000 word vectors.\n"
     ]
    }
   ],
   "source": [
    "def load_embeddings(word_index, embeddingsfile='wordEmbeddings/glove.6B.%id.txt' %EMBEDDING_DIM):\n",
    "    embeddings_index = {}\n",
    "    f = open(embeddingsfile, 'r', encoding='utf8')\n",
    "    for line in f:\n",
    "        \n",
    "        values = line.split(' ') \n",
    "        word = values[0] \n",
    "        coefs = np.asarray(values[1:], dtype='float32') \n",
    "        embeddings_index[word] = coefs \n",
    "    f.close()\n",
    "\n",
    "    print('Found %s word vectors.' % len(embeddings_index))\n",
    "\n",
    "    embedding_matrix = np.zeros((len(word_index) + 1, EMBEDDING_DIM))\n",
    "    for word, i in word_index.items():\n",
    "        embedding_vector = embeddings_index.get(word)\n",
    "        if embedding_vector is not None:\n",
    "\n",
    "            embedding_matrix[i] = embedding_vector\n",
    "    \n",
    "    embedding_layer = Embedding(len(word_index) + 1,\n",
    "                                EMBEDDING_DIM,\n",
    "                                weights=[embedding_matrix],\n",
    "                                input_length=MAX_SEQUENCE_LENGTH,\n",
    "                                trainable=False)\n",
    "    return embedding_layer\n",
    "    \n",
    "\n",
    "embedding_layer = load_embeddings(word_index)"
   ]
  },
  {
   "cell_type": "code",
   "execution_count": 15,
   "metadata": {},
   "outputs": [],
   "source": [
    "from keras import Sequential, Model, Input\n",
    "from keras.layers import Conv1D, MaxPooling1D, AveragePooling1D, Flatten, Dense, GlobalAveragePooling1D, Dropout, LSTM, CuDNNLSTM, RNN, SimpleRNN, Conv2D, GlobalMaxPooling1D\n",
    "from keras import callbacks\n",
    "\n",
    "def baseline_model(sequence_input, embedded_sequences, classes=2):\n",
    "    x = Conv1D(64, 5, activation='relu')(embedded_sequences)\n",
    "    x = MaxPooling1D(5)(x)\n",
    "    x = Conv1D(128, 3, activation='relu')(x)\n",
    "    x = MaxPooling1D(5)(x)\n",
    "    x = Conv1D(256, 2, activation='relu')(x)\n",
    "    x = GlobalAveragePooling1D()(x)\n",
    "    x = Dense(2048, activation='relu')(x)\n",
    "    x = Dropout(0.5)(x)\n",
    "    x = Dense(512, activation='relu')(x)\n",
    "    x = Dropout(0.5)(x)\n",
    "    preds = Dense(classes, activation='softmax')(x)\n",
    "\n",
    "    model = Model(sequence_input, preds)\n",
    "    return model"
   ]
  },
  {
   "cell_type": "code",
   "execution_count": null,
   "metadata": {},
   "outputs": [],
   "source": [
    "\n",
    "MAX_SEQUENCE_LENGTH=1500\n",
    "sequence_input = Input(shape=(MAX_SEQUENCE_LENGTH,), dtype='int32')\n",
    "embedded_sequences = embedding_layer(sequence_input)\n",
    "\n",
    "model = baseline_model(sequence_input, embedded_sequences, classes=2)\n",
    "\n",
    "model.compile(loss='categorical_crossentropy',\n",
    "              optimizer='adamax',\n",
    "              metrics=['acc'])\n",
    "\n",
    "print(model.summary())\n",
    "\n",
    "model.fit(train_data, train_labels,\n",
    "          validation_data=(valid_data, valid_labels),\n",
    "          epochs=25, batch_size=64)"
   ]
  },
  {
   "cell_type": "code",
   "execution_count": null,
   "metadata": {},
   "outputs": [],
   "source": [
    "# # serialize model to JSON\n",
    "# model_json = model.to_json()\n",
    "# with open(\"cnn_model.json\", \"w\") as json_file:\n",
    "#     json_file.write(model_json)\n",
    "# # serialize weights to HDF5\n",
    "# model.save_weights(\"model.h5\")\n",
    "# print(\"Saved model to disk\")"
   ]
  },
  {
   "cell_type": "code",
   "execution_count": 2,
   "metadata": {},
   "outputs": [
    {
     "ename": "NameError",
     "evalue": "name 'model_from_json' is not defined",
     "output_type": "error",
     "traceback": [
      "\u001b[0;31m---------------------------------------------------------------------------\u001b[0m",
      "\u001b[0;31mNameError\u001b[0m                                 Traceback (most recent call last)",
      "\u001b[0;32m<ipython-input-2-817b077fa199>\u001b[0m in \u001b[0;36m<module>\u001b[0;34m()\u001b[0m\n\u001b[1;32m      4\u001b[0m \u001b[0mloaded_model_json\u001b[0m \u001b[0;34m=\u001b[0m \u001b[0mjson_file\u001b[0m\u001b[0;34m.\u001b[0m\u001b[0mread\u001b[0m\u001b[0;34m(\u001b[0m\u001b[0;34m)\u001b[0m\u001b[0;34m\u001b[0m\u001b[0;34m\u001b[0m\u001b[0m\n\u001b[1;32m      5\u001b[0m \u001b[0mjson_file\u001b[0m\u001b[0;34m.\u001b[0m\u001b[0mclose\u001b[0m\u001b[0;34m(\u001b[0m\u001b[0;34m)\u001b[0m\u001b[0;34m\u001b[0m\u001b[0;34m\u001b[0m\u001b[0m\n\u001b[0;32m----> 6\u001b[0;31m \u001b[0mmodel\u001b[0m \u001b[0;34m=\u001b[0m \u001b[0mmodel_from_json\u001b[0m\u001b[0;34m(\u001b[0m\u001b[0mloaded_model_json\u001b[0m\u001b[0;34m)\u001b[0m\u001b[0;34m\u001b[0m\u001b[0;34m\u001b[0m\u001b[0m\n\u001b[0m\u001b[1;32m      7\u001b[0m \u001b[0;31m# load weights into new model\u001b[0m\u001b[0;34m\u001b[0m\u001b[0;34m\u001b[0m\u001b[0;34m\u001b[0m\u001b[0m\n\u001b[1;32m      8\u001b[0m \u001b[0mmodel\u001b[0m\u001b[0;34m.\u001b[0m\u001b[0mload_weights\u001b[0m\u001b[0;34m(\u001b[0m\u001b[0;34m\"model.h5\"\u001b[0m\u001b[0;34m)\u001b[0m\u001b[0;34m\u001b[0m\u001b[0;34m\u001b[0m\u001b[0m\n",
      "\u001b[0;31mNameError\u001b[0m: name 'model_from_json' is not defined"
     ]
    }
   ],
   "source": [
    "\n",
    "# load json and create model\n",
    "json_file = open('cnn_model.json', 'r')\n",
    "loaded_model_json = json_file.read()\n",
    "json_file.close()\n",
    "model = model_from_json(loaded_model_json)\n",
    "# load weights into new model\n",
    "model.load_weights(\"model.h5\")\n",
    "print(\"Loaded model from disk\")"
   ]
  },
  {
   "cell_type": "code",
   "execution_count": null,
   "metadata": {},
   "outputs": [],
   "source": [
    "model.evaluate(test_data, test_labels)"
   ]
  },
  {
   "cell_type": "code",
   "execution_count": 1,
   "metadata": {},
   "outputs": [
    {
     "ename": "NameError",
     "evalue": "name 'model' is not defined",
     "output_type": "error",
     "traceback": [
      "\u001b[0;31m---------------------------------------------------------------------------\u001b[0m",
      "\u001b[0;31mNameError\u001b[0m                                 Traceback (most recent call last)",
      "\u001b[0;32m<ipython-input-1-8fec4cde023d>\u001b[0m in \u001b[0;36m<module>\u001b[0;34m()\u001b[0m\n\u001b[0;32m----> 1\u001b[0;31m \u001b[0myhat_probs\u001b[0m \u001b[0;34m=\u001b[0m \u001b[0mmodel\u001b[0m\u001b[0;34m.\u001b[0m\u001b[0mpredict\u001b[0m\u001b[0;34m(\u001b[0m\u001b[0mtest_data\u001b[0m\u001b[0;34m)\u001b[0m\u001b[0;34m\u001b[0m\u001b[0;34m\u001b[0m\u001b[0m\n\u001b[0m",
      "\u001b[0;31mNameError\u001b[0m: name 'model' is not defined"
     ]
    }
   ],
   "source": [
    "yhat_probs = model.predict(test_data)"
   ]
  },
  {
   "cell_type": "code",
   "execution_count": 13,
   "metadata": {},
   "outputs": [
    {
     "name": "stdout",
     "output_type": "stream",
     "text": [
      "[[5.62703995e-10 1.00000000e+00]\n",
      " [6.67451799e-01 3.32548231e-01]\n",
      " [9.91798639e-01 8.20138864e-03]\n",
      " [1.00000000e+00 5.56218478e-17]\n",
      " [0.00000000e+00 1.00000000e+00]\n",
      " [9.73284021e-02 9.02671576e-01]\n",
      " [9.02291577e-16 1.00000000e+00]\n",
      " [7.18725328e-15 1.00000000e+00]\n",
      " [3.43157902e-23 1.00000000e+00]\n",
      " [5.35201580e-05 9.99946475e-01]\n",
      " [1.00000000e+00 3.96010005e-17]\n",
      " [1.00000000e+00 3.77551384e-16]\n",
      " [7.65109303e-20 1.00000000e+00]\n",
      " [1.93075072e-16 1.00000000e+00]\n",
      " [1.00000000e+00 0.00000000e+00]\n",
      " [2.69220201e-24 1.00000000e+00]\n",
      " [9.99999881e-01 1.67683950e-07]\n",
      " [1.00000000e+00 1.97203636e-13]\n",
      " [9.99999523e-01 5.13540499e-07]\n",
      " [9.99075770e-01 9.24257038e-04]\n",
      " [7.66223085e-10 1.00000000e+00]\n",
      " [1.00000000e+00 2.48524552e-12]\n",
      " [1.00000000e+00 7.22512761e-13]\n",
      " [5.39050298e-08 1.00000000e+00]\n",
      " [1.00000000e+00 4.70323173e-12]\n",
      " [1.00000000e+00 2.43230226e-18]\n",
      " [1.19897209e-16 1.00000000e+00]\n",
      " [1.00000000e+00 3.30871242e-09]\n",
      " [1.65542059e-11 1.00000000e+00]\n",
      " [1.81566029e-05 9.99981880e-01]\n",
      " [9.99977827e-01 2.21260470e-05]\n",
      " [1.78975881e-15 1.00000000e+00]\n",
      " [8.30588202e-12 1.00000000e+00]\n",
      " [1.47593719e-31 1.00000000e+00]\n",
      " [2.02705214e-12 1.00000000e+00]\n",
      " [1.81525315e-24 1.00000000e+00]\n",
      " [0.00000000e+00 1.00000000e+00]\n",
      " [1.59686167e-08 1.00000000e+00]\n",
      " [3.68268750e-14 1.00000000e+00]\n",
      " [6.70266381e-05 9.99933004e-01]\n",
      " [1.00000000e+00 1.00843584e-14]\n",
      " [5.30260991e-12 1.00000000e+00]\n",
      " [1.60102209e-11 1.00000000e+00]\n",
      " [1.00000000e+00 2.64791674e-24]\n",
      " [1.00000000e+00 4.72020968e-15]\n",
      " [1.00000000e+00 5.25466161e-21]\n",
      " [1.00000000e+00 6.22838809e-21]\n",
      " [1.52744734e-10 1.00000000e+00]\n",
      " [8.70293692e-14 1.00000000e+00]\n",
      " [0.00000000e+00 1.00000000e+00]\n",
      " [1.00000000e+00 1.30372660e-18]\n",
      " [9.99999285e-01 7.11525274e-07]\n",
      " [6.88927753e-22 1.00000000e+00]\n",
      " [4.91022945e-10 1.00000000e+00]\n",
      " [9.99950886e-01 4.91163519e-05]\n",
      " [9.74255575e-17 1.00000000e+00]\n",
      " [3.08996298e-14 1.00000000e+00]\n",
      " [2.01057393e-10 1.00000000e+00]\n",
      " [9.99966383e-01 3.36500852e-05]\n",
      " [4.87285215e-05 9.99951243e-01]\n",
      " [3.96033693e-06 9.99996066e-01]\n",
      " [7.87988842e-01 2.12011173e-01]\n",
      " [1.00000000e+00 9.13812212e-13]\n",
      " [9.99859452e-01 1.40488410e-04]\n",
      " [3.96033693e-06 9.99996066e-01]\n",
      " [9.99741971e-01 2.57991633e-04]\n",
      " [1.00000000e+00 3.93971154e-18]\n",
      " [2.03780405e-06 9.99997973e-01]\n",
      " [1.00000000e+00 2.57346072e-11]\n",
      " [1.00000000e+00 3.12975696e-18]\n",
      " [8.36827153e-29 1.00000000e+00]\n",
      " [1.00000000e+00 6.34947828e-09]\n",
      " [2.61709682e-32 1.00000000e+00]\n",
      " [5.49788076e-19 1.00000000e+00]\n",
      " [5.00490925e-13 1.00000000e+00]\n",
      " [3.49236258e-14 1.00000000e+00]\n",
      " [1.00000000e+00 5.16502295e-17]\n",
      " [5.26560200e-08 1.00000000e+00]\n",
      " [9.98921633e-01 1.07841869e-03]\n",
      " [1.78396358e-24 1.00000000e+00]\n",
      " [0.00000000e+00 1.00000000e+00]\n",
      " [4.38792579e-12 1.00000000e+00]\n",
      " [2.46387528e-11 1.00000000e+00]\n",
      " [2.75554955e-18 1.00000000e+00]\n",
      " [2.38270401e-31 1.00000000e+00]\n",
      " [1.00000000e+00 5.56135848e-09]\n",
      " [1.76096130e-13 1.00000000e+00]\n",
      " [1.00000000e+00 1.25214119e-12]\n",
      " [0.00000000e+00 1.00000000e+00]\n",
      " [2.15976494e-17 1.00000000e+00]\n",
      " [1.00000000e+00 4.49303705e-08]\n",
      " [1.01484531e-15 1.00000000e+00]\n",
      " [1.00000000e+00 2.75529255e-29]\n",
      " [8.78773571e-04 9.99121249e-01]\n",
      " [1.59067767e-24 1.00000000e+00]\n",
      " [3.99529708e-05 9.99960065e-01]\n",
      " [6.20561325e-16 1.00000000e+00]\n",
      " [1.00000000e+00 2.77044190e-26]\n",
      " [5.17826068e-32 1.00000000e+00]\n",
      " [3.82347939e-28 1.00000000e+00]\n",
      " [9.99998569e-01 1.41620103e-06]\n",
      " [9.99993086e-01 6.95299377e-06]\n",
      " [5.79114555e-07 9.99999404e-01]\n",
      " [0.00000000e+00 1.00000000e+00]\n",
      " [7.21179589e-04 9.99278843e-01]\n",
      " [1.00000000e+00 5.91761495e-18]\n",
      " [9.99999881e-01 7.81346685e-08]\n",
      " [3.76524646e-30 1.00000000e+00]\n",
      " [3.53828341e-01 6.46171629e-01]\n",
      " [9.99999404e-01 6.18317813e-07]\n",
      " [9.99854326e-01 1.45654514e-04]\n",
      " [2.63600753e-14 1.00000000e+00]\n",
      " [1.71773312e-20 1.00000000e+00]\n",
      " [6.44375842e-14 1.00000000e+00]\n",
      " [1.00000000e+00 1.88050843e-15]\n",
      " [1.00000000e+00 1.93219776e-13]\n",
      " [2.23489076e-21 1.00000000e+00]\n",
      " [5.74671530e-19 1.00000000e+00]\n",
      " [2.96792109e-06 9.99997020e-01]\n",
      " [1.68880885e-18 1.00000000e+00]\n",
      " [1.85521772e-11 1.00000000e+00]\n",
      " [1.00000000e+00 5.50181978e-21]\n",
      " [1.65723419e-22 1.00000000e+00]\n",
      " [1.00000000e+00 5.76588810e-18]\n",
      " [9.73197564e-12 1.00000000e+00]\n",
      " [1.00000000e+00 7.39670064e-22]\n",
      " [7.08883126e-12 1.00000000e+00]\n",
      " [1.10973500e-13 1.00000000e+00]\n",
      " [1.00000000e+00 2.72696243e-09]\n",
      " [1.00000000e+00 4.77779842e-08]\n",
      " [0.00000000e+00 1.00000000e+00]\n",
      " [4.07513001e-24 1.00000000e+00]\n",
      " [1.00000000e+00 5.69781809e-12]\n",
      " [9.99885082e-01 1.14862705e-04]\n",
      " [4.16652046e-09 1.00000000e+00]\n",
      " [8.33850715e-22 1.00000000e+00]\n",
      " [4.37610323e-14 1.00000000e+00]\n",
      " [2.09928095e-01 7.90071905e-01]\n",
      " [9.99999285e-01 7.17780438e-07]\n",
      " [1.03353386e-07 9.99999881e-01]\n",
      " [1.00000000e+00 1.22301813e-13]\n",
      " [2.43044845e-32 1.00000000e+00]\n",
      " [8.24378876e-09 1.00000000e+00]\n",
      " [1.02676749e-10 1.00000000e+00]\n",
      " [9.99334872e-01 6.65160071e-04]\n",
      " [1.00000000e+00 7.93353772e-21]\n",
      " [1.00000000e+00 4.51549198e-09]\n",
      " [9.95340586e-01 4.65946924e-03]\n",
      " [1.61398189e-19 1.00000000e+00]\n",
      " [1.00000000e+00 8.42162820e-13]\n",
      " [1.00000000e+00 6.35226449e-09]\n",
      " [1.00000000e+00 2.43652138e-08]\n",
      " [4.49839558e-12 1.00000000e+00]\n",
      " [1.00000000e+00 3.50790300e-11]\n",
      " [9.99994040e-01 5.96190739e-06]\n",
      " [6.18998288e-13 1.00000000e+00]\n",
      " [1.98971431e-17 1.00000000e+00]\n",
      " [1.00000000e+00 9.59470472e-15]\n",
      " [1.00000000e+00 3.62164343e-08]\n",
      " [1.00000000e+00 6.34067084e-23]\n",
      " [5.40743768e-03 9.94592488e-01]\n",
      " [1.00000000e+00 6.25808627e-10]\n",
      " [1.00000000e+00 3.47119498e-23]\n",
      " [1.86343154e-18 1.00000000e+00]\n",
      " [1.14152513e-17 1.00000000e+00]\n",
      " [1.00000000e+00 1.40714619e-16]\n",
      " [1.00000000e+00 1.53350832e-09]\n",
      " [1.00000000e+00 1.35705222e-19]\n",
      " [1.00000000e+00 0.00000000e+00]\n",
      " [7.56654543e-08 9.99999881e-01]\n",
      " [2.68620697e-27 1.00000000e+00]\n",
      " [9.99997735e-01 2.23162078e-06]\n",
      " [9.99815166e-01 1.84820849e-04]\n",
      " [1.00000000e+00 6.72957823e-09]\n",
      " [2.66129170e-18 1.00000000e+00]\n",
      " [1.12534256e-03 9.98874605e-01]\n",
      " [5.73549780e-13 1.00000000e+00]\n",
      " [1.00000000e+00 1.59553340e-24]\n",
      " [1.00000000e+00 1.69550057e-13]\n",
      " [2.79440845e-11 1.00000000e+00]\n",
      " [5.56451499e-01 4.43548530e-01]\n",
      " [1.00000000e+00 2.61186732e-12]\n",
      " [2.63711995e-17 1.00000000e+00]\n",
      " [9.89759941e-10 1.00000000e+00]\n",
      " [3.96033693e-06 9.99996066e-01]\n",
      " [1.00000000e+00 8.31412644e-34]\n",
      " [5.07465421e-18 1.00000000e+00]\n",
      " [1.00000000e+00 6.85648233e-21]\n",
      " [1.00000000e+00 7.93776422e-09]\n",
      " [1.46403053e-07 9.99999881e-01]\n",
      " [1.00000000e+00 7.90309224e-13]\n",
      " [1.37575455e-07 9.99999881e-01]\n",
      " [1.18235142e-19 1.00000000e+00]\n",
      " [1.00000000e+00 6.30140592e-11]\n",
      " [9.99273598e-01 7.26392260e-04]\n",
      " [3.26108932e-13 1.00000000e+00]\n",
      " [1.09045173e-18 1.00000000e+00]\n",
      " [1.00000000e+00 3.92081672e-20]\n",
      " [3.06690462e-33 1.00000000e+00]\n",
      " [1.00000000e+00 6.92131769e-12]\n",
      " [7.76080249e-26 1.00000000e+00]\n",
      " [3.77146746e-13 1.00000000e+00]\n",
      " [5.47024980e-03 9.94529784e-01]\n",
      " [9.87576243e-10 1.00000000e+00]\n",
      " [1.21960006e-18 1.00000000e+00]\n",
      " [9.99999285e-01 7.25226073e-07]\n",
      " [1.48000595e-07 9.99999881e-01]\n",
      " [9.99008596e-01 9.91428504e-04]\n",
      " [1.00000000e+00 6.90186948e-13]\n",
      " [1.00000000e+00 1.63514215e-15]\n",
      " [0.00000000e+00 1.00000000e+00]\n",
      " [1.00000000e+00 1.27456987e-08]\n",
      " [1.00000000e+00 2.52604404e-12]\n",
      " [0.00000000e+00 1.00000000e+00]\n",
      " [2.58038285e-21 1.00000000e+00]\n",
      " [3.48782464e-24 1.00000000e+00]\n",
      " [2.70100487e-11 1.00000000e+00]\n",
      " [1.43511354e-08 1.00000000e+00]\n",
      " [9.99997973e-01 2.03957325e-06]\n",
      " [1.00000000e+00 2.50414273e-10]\n",
      " [7.25538065e-14 1.00000000e+00]\n",
      " [2.24189851e-12 1.00000000e+00]\n",
      " [9.99999642e-01 3.78980047e-07]\n",
      " [2.81858946e-21 1.00000000e+00]\n",
      " [9.99942780e-01 5.71627825e-05]\n",
      " [1.33990007e-11 1.00000000e+00]\n",
      " [0.00000000e+00 1.00000000e+00]\n",
      " [7.37966911e-06 9.99992609e-01]\n",
      " [1.15679472e-22 1.00000000e+00]\n",
      " [5.26014473e-33 1.00000000e+00]\n",
      " [1.00000000e+00 3.80311424e-13]\n",
      " [3.60378908e-05 9.99963999e-01]\n",
      " [1.00000000e+00 7.67614690e-20]\n",
      " [3.92661901e-15 1.00000000e+00]\n",
      " [9.22811617e-24 1.00000000e+00]\n",
      " [6.11358701e-05 9.99938846e-01]\n",
      " [9.99999285e-01 7.42543989e-07]\n",
      " [1.00000000e+00 3.14053741e-30]\n",
      " [0.00000000e+00 1.00000000e+00]\n",
      " [1.00000000e+00 5.01607353e-16]\n",
      " [0.00000000e+00 1.00000000e+00]\n",
      " [0.00000000e+00 1.00000000e+00]\n",
      " [1.00000000e+00 5.54125365e-12]\n",
      " [1.00000000e+00 2.01969178e-24]\n",
      " [4.20999830e-04 9.99579012e-01]\n",
      " [1.36871813e-06 9.99998689e-01]\n",
      " [1.00000000e+00 7.61481189e-09]\n",
      " [1.26448338e-10 1.00000000e+00]\n",
      " [1.00000000e+00 1.69239497e-10]\n",
      " [1.00000000e+00 2.61784170e-35]\n",
      " [9.99998927e-01 1.13107615e-06]\n",
      " [2.06612464e-13 1.00000000e+00]\n",
      " [9.94607348e-12 1.00000000e+00]\n",
      " [1.59577773e-08 1.00000000e+00]\n",
      " [1.00000000e+00 2.00133223e-23]\n",
      " [3.20352278e-08 1.00000000e+00]\n",
      " [3.96033693e-06 9.99996066e-01]\n",
      " [9.99977469e-01 2.24955966e-05]\n",
      " [1.57650879e-06 9.99998450e-01]\n",
      " [1.00000000e+00 7.27636340e-10]\n",
      " [1.15077317e-08 1.00000000e+00]\n",
      " [1.00000000e+00 2.26303677e-15]\n",
      " [1.00000000e+00 1.48387991e-09]\n",
      " [1.34550150e-14 1.00000000e+00]\n",
      " [3.54038307e-18 1.00000000e+00]\n",
      " [1.00000000e+00 0.00000000e+00]\n",
      " [2.23839836e-09 1.00000000e+00]\n",
      " [2.59955306e-26 1.00000000e+00]\n",
      " [1.00000000e+00 8.31981595e-09]\n",
      " [9.99999642e-01 3.53503054e-07]\n",
      " [1.00000000e+00 8.18874266e-30]\n",
      " [5.14488639e-17 1.00000000e+00]\n",
      " [1.00000000e+00 2.83232660e-32]\n",
      " [1.00000000e+00 1.61805536e-28]\n",
      " [1.00000000e+00 9.97484650e-10]\n",
      " [6.34269833e-32 1.00000000e+00]\n",
      " [1.00000000e+00 1.52300842e-17]\n",
      " [3.66630312e-03 9.96333718e-01]\n",
      " [0.00000000e+00 1.00000000e+00]\n",
      " [1.00000000e+00 1.64912848e-17]\n",
      " [1.00000000e+00 1.23960986e-25]\n",
      " [1.07706309e-11 1.00000000e+00]\n",
      " [2.43495068e-12 1.00000000e+00]\n",
      " [0.00000000e+00 1.00000000e+00]\n",
      " [1.34105416e-17 1.00000000e+00]\n",
      " [9.99795496e-01 2.04573415e-04]\n",
      " [1.00000000e+00 1.10213294e-09]\n",
      " [1.87485408e-18 1.00000000e+00]\n",
      " [2.90688604e-07 9.99999762e-01]\n",
      " [1.06577858e-07 9.99999881e-01]\n",
      " [7.81719973e-06 9.99992132e-01]\n",
      " [1.18022183e-06 9.99998808e-01]\n",
      " [8.72965784e-28 1.00000000e+00]\n",
      " [1.00000000e+00 1.43503319e-13]\n",
      " [1.00000000e+00 6.30300843e-21]\n",
      " [9.99999881e-01 1.45478069e-07]\n",
      " [1.00000000e+00 4.33968353e-20]\n",
      " [5.19612320e-19 1.00000000e+00]\n",
      " [1.00000000e+00 6.77292150e-24]\n",
      " [1.00000000e+00 1.53206218e-19]\n",
      " [1.85782057e-22 1.00000000e+00]\n",
      " [3.25237282e-10 1.00000000e+00]\n",
      " [1.00000000e+00 1.93091029e-11]\n",
      " [1.12265674e-07 9.99999881e-01]\n",
      " [7.28434067e-12 1.00000000e+00]\n",
      " [9.99999404e-01 5.51409471e-07]\n",
      " [1.02596013e-19 1.00000000e+00]\n",
      " [4.24177540e-20 1.00000000e+00]\n",
      " [1.00000000e+00 1.06925735e-09]\n",
      " [2.23218186e-13 1.00000000e+00]\n",
      " [1.00000000e+00 5.65938254e-22]\n",
      " [0.00000000e+00 1.00000000e+00]\n",
      " [1.00000000e+00 1.42388239e-35]\n",
      " [9.99999642e-01 3.30067195e-07]\n",
      " [1.00000000e+00 5.21409937e-09]\n",
      " [9.99998927e-01 1.05938182e-06]\n",
      " [1.14003597e-02 9.88599658e-01]\n",
      " [1.00000000e+00 4.02045952e-10]\n",
      " [1.00000000e+00 2.37505482e-08]\n",
      " [1.00000000e+00 6.35024122e-09]\n",
      " [1.81249155e-10 1.00000000e+00]\n",
      " [1.00000000e+00 2.26131596e-18]\n",
      " [1.00000000e+00 8.55082845e-12]\n",
      " [9.99821246e-01 1.78796472e-04]\n",
      " [6.63997416e-05 9.99933600e-01]\n",
      " [1.00000000e+00 2.30350287e-22]\n",
      " [2.13120581e-21 1.00000000e+00]\n",
      " [9.99974728e-01 2.52464524e-05]\n",
      " [9.99999642e-01 4.15415229e-07]\n",
      " [9.99999046e-01 9.68320251e-07]\n",
      " [2.12706546e-08 1.00000000e+00]\n",
      " [1.80163217e-20 1.00000000e+00]\n",
      " [1.00000000e+00 1.90150283e-12]\n",
      " [1.73758730e-04 9.99826252e-01]\n",
      " [1.35377799e-36 1.00000000e+00]\n",
      " [1.00000000e+00 1.99336245e-08]\n",
      " [4.54677962e-12 1.00000000e+00]\n",
      " [7.92126365e-09 1.00000000e+00]\n",
      " [2.75184996e-12 1.00000000e+00]\n",
      " [1.00000000e+00 2.65731524e-18]\n",
      " [4.44042772e-01 5.55957258e-01]\n",
      " [5.06449912e-19 1.00000000e+00]\n",
      " [1.00000000e+00 1.71443376e-20]\n",
      " [1.00000000e+00 3.63565678e-24]\n",
      " [9.33160070e-14 1.00000000e+00]\n",
      " [4.85458332e-12 1.00000000e+00]\n",
      " [4.17134453e-14 1.00000000e+00]\n",
      " [7.51492620e-01 2.48507351e-01]\n",
      " [1.00000000e+00 8.66502372e-14]\n",
      " [5.72358771e-20 1.00000000e+00]\n",
      " [1.35203085e-10 1.00000000e+00]\n",
      " [1.34726228e-19 1.00000000e+00]\n",
      " [3.36850472e-02 9.66314912e-01]\n",
      " [2.17119278e-14 1.00000000e+00]\n",
      " [1.00000000e+00 1.24443789e-10]\n",
      " [1.00000000e+00 4.47819698e-10]\n",
      " [1.00000000e+00 7.35950780e-18]\n",
      " [0.00000000e+00 1.00000000e+00]\n",
      " [8.03855732e-11 1.00000000e+00]\n",
      " [1.00000000e+00 7.87931942e-11]\n",
      " [1.00000000e+00 4.60679807e-14]\n",
      " [3.61701485e-21 1.00000000e+00]\n",
      " [1.00000000e+00 7.04918879e-09]\n",
      " [1.00000000e+00 1.14696668e-27]\n",
      " [1.18975631e-29 1.00000000e+00]\n",
      " [2.31434697e-07 9.99999762e-01]\n",
      " [1.33006751e-13 1.00000000e+00]\n",
      " [3.18486796e-04 9.99681473e-01]\n",
      " [9.99896049e-01 1.03888677e-04]\n",
      " [6.63996577e-01 3.36003423e-01]\n",
      " [1.00000000e+00 1.13976750e-09]\n",
      " [7.05291052e-25 1.00000000e+00]\n",
      " [7.91837633e-17 1.00000000e+00]\n",
      " [6.99647940e-09 1.00000000e+00]\n",
      " [1.00000000e+00 6.87965743e-13]\n",
      " [9.99966741e-01 3.32721174e-05]\n",
      " [1.00000000e+00 2.66253264e-09]\n",
      " [9.99995232e-01 4.74292847e-06]\n",
      " [7.65432000e-01 2.34568030e-01]\n",
      " [9.91801498e-05 9.99900818e-01]\n",
      " [9.99999642e-01 3.27085331e-07]\n",
      " [6.41977519e-14 1.00000000e+00]\n",
      " [9.93058920e-01 6.94108289e-03]\n",
      " [1.54941338e-10 1.00000000e+00]\n",
      " [9.99999881e-01 1.01763462e-07]\n",
      " [9.99032497e-01 9.67567554e-04]\n",
      " [9.99999762e-01 2.11376204e-07]\n",
      " [1.00000000e+00 1.92721467e-20]\n",
      " [3.38031114e-08 1.00000000e+00]\n",
      " [1.00000000e+00 8.60885755e-27]\n",
      " [1.24720720e-12 1.00000000e+00]\n",
      " [2.04437725e-12 1.00000000e+00]\n",
      " [9.99999881e-01 1.76224503e-07]\n",
      " [3.96033693e-06 9.99996066e-01]\n",
      " [1.00000000e+00 4.05996023e-29]\n",
      " [1.00000000e+00 1.01011322e-09]\n",
      " [9.99999881e-01 6.32985575e-08]\n",
      " [9.99999762e-01 2.04532398e-07]\n",
      " [0.00000000e+00 1.00000000e+00]\n",
      " [4.37099002e-25 1.00000000e+00]\n",
      " [1.00000000e+00 1.65934306e-08]\n",
      " [1.00000000e+00 3.66110435e-13]\n",
      " [9.99998808e-01 1.17932734e-06]\n",
      " [4.40968014e-03 9.95590329e-01]\n",
      " [9.99999046e-01 9.47770900e-07]\n",
      " [1.00000000e+00 2.50019845e-08]\n",
      " [1.00000000e+00 3.57006122e-08]\n",
      " [9.99999762e-01 2.80567690e-07]\n",
      " [1.00000000e+00 5.46508261e-08]\n",
      " [1.00000000e+00 1.05384776e-08]\n",
      " [1.00000000e+00 1.07100145e-11]\n",
      " [1.70677960e-01 8.29322040e-01]\n",
      " [9.99989033e-01 1.10135816e-05]\n",
      " [1.00000000e+00 2.49417186e-13]\n",
      " [1.00000000e+00 1.91182750e-08]\n",
      " [9.67409611e-01 3.25903594e-02]\n",
      " [1.00000000e+00 4.60997185e-10]\n",
      " [5.15345648e-11 1.00000000e+00]\n",
      " [9.78077160e-15 1.00000000e+00]\n",
      " [1.00000000e+00 8.17949520e-24]\n",
      " [7.58812968e-29 1.00000000e+00]\n",
      " [1.00000000e+00 4.51010385e-09]\n",
      " [2.02932075e-18 1.00000000e+00]\n",
      " [1.00000000e+00 1.85221286e-33]\n",
      " [1.00000000e+00 4.29027563e-10]\n",
      " [9.99969363e-01 3.06655020e-05]\n",
      " [1.00000000e+00 6.37382023e-16]\n",
      " [9.99913454e-01 8.65220863e-05]\n",
      " [1.00000000e+00 7.87166669e-24]\n",
      " [1.00000000e+00 2.47391801e-16]\n",
      " [9.99985933e-01 1.40622205e-05]\n",
      " [5.18176675e-01 4.81823355e-01]\n",
      " [1.00000000e+00 9.10682467e-12]\n",
      " [5.63355515e-15 1.00000000e+00]\n",
      " [4.80793583e-09 1.00000000e+00]\n",
      " [1.00000000e+00 4.33184033e-14]\n",
      " [1.00000000e+00 1.50627688e-08]\n",
      " [1.00000000e+00 3.03259674e-18]\n",
      " [1.00000000e+00 1.24556629e-13]\n",
      " [1.07522764e-08 1.00000000e+00]\n",
      " [5.11873424e-01 4.88126606e-01]\n",
      " [2.03863466e-15 1.00000000e+00]\n",
      " [2.33487278e-01 7.66512752e-01]\n",
      " [3.16029225e-09 1.00000000e+00]\n",
      " [1.00000000e+00 1.49822354e-18]\n",
      " [2.89810014e-05 9.99971032e-01]\n",
      " [9.97108996e-01 2.89107626e-03]\n",
      " [1.00000000e+00 1.69296632e-10]\n",
      " [9.99999881e-01 7.11777091e-08]\n",
      " [9.99999881e-01 9.26135755e-08]\n",
      " [8.62633169e-06 9.99991417e-01]\n",
      " [9.99999285e-01 6.80067103e-07]\n",
      " [6.04741444e-07 9.99999404e-01]\n",
      " [1.00000000e+00 9.43932500e-15]\n",
      " [9.94413674e-01 5.58631076e-03]\n",
      " [6.57280022e-03 9.93427277e-01]\n",
      " [1.00000000e+00 3.20095471e-21]\n",
      " [1.00000000e+00 2.63466549e-14]\n",
      " [3.35563473e-13 1.00000000e+00]\n",
      " [1.00000000e+00 1.79381399e-09]\n",
      " [1.00000000e+00 1.06358931e-15]\n",
      " [9.99999881e-01 1.14664026e-07]\n",
      " [9.99246001e-01 7.54040608e-04]\n",
      " [4.60293904e-07 9.99999523e-01]\n",
      " [2.14705508e-07 9.99999762e-01]\n",
      " [7.62719532e-13 1.00000000e+00]\n",
      " [1.05006254e-10 1.00000000e+00]\n",
      " [0.00000000e+00 1.00000000e+00]\n",
      " [7.25023908e-09 1.00000000e+00]\n",
      " [1.00000000e+00 9.42631806e-11]\n",
      " [4.86366567e-27 1.00000000e+00]\n",
      " [9.99999881e-01 1.25849638e-07]\n",
      " [8.70293692e-14 1.00000000e+00]\n",
      " [3.07847666e-16 1.00000000e+00]\n",
      " [1.56018905e-05 9.99984384e-01]\n",
      " [1.00000000e+00 6.01145911e-10]\n",
      " [1.00000000e+00 1.18269815e-20]\n",
      " [9.99990702e-01 9.33394676e-06]\n",
      " [1.00000000e+00 3.76861847e-10]\n",
      " [0.00000000e+00 1.00000000e+00]\n",
      " [1.16481535e-01 8.83518517e-01]\n",
      " [9.99976754e-01 2.31981830e-05]\n",
      " [0.00000000e+00 1.00000000e+00]\n",
      " [9.99999881e-01 9.07012634e-08]\n",
      " [0.00000000e+00 1.00000000e+00]\n",
      " [1.00000000e+00 1.90080307e-08]\n",
      " [1.00000000e+00 5.82897527e-28]\n",
      " [9.99992251e-01 7.76681918e-06]\n",
      " [1.00000000e+00 3.73843423e-33]\n",
      " [1.00000000e+00 5.96297123e-10]\n",
      " [7.03763436e-13 1.00000000e+00]\n",
      " [9.99429762e-01 5.70229546e-04]\n",
      " [2.55032759e-08 1.00000000e+00]\n",
      " [1.00000000e+00 2.20236936e-11]\n",
      " [1.00000000e+00 3.06191218e-11]\n",
      " [1.01699507e-17 1.00000000e+00]\n",
      " [6.04414381e-03 9.93955910e-01]\n",
      " [1.50359765e-01 8.49640250e-01]\n",
      " [8.21690563e-11 1.00000000e+00]\n",
      " [3.24472617e-18 1.00000000e+00]]\n"
     ]
    }
   ],
   "source": [
    "print(yhat_probs)"
   ]
  },
  {
   "cell_type": "code",
   "execution_count": 14,
   "metadata": {},
   "outputs": [],
   "source": [
    "yhat_classes = []\n",
    "for i in range(len(yhat_probs)):\n",
    "    if(yhat_probs[i][0]<.5):\n",
    "        yhat_classes.append(0.)\n",
    "    else:\n",
    "        yhat_classes.append(1.)\n",
    "    \n",
    "        "
   ]
  },
  {
   "cell_type": "code",
   "execution_count": 15,
   "metadata": {},
   "outputs": [],
   "source": [
    "\n",
    "yhat_classes = np.array(yhat_classes)\n",
    "# print(yhat_classes)\n"
   ]
  },
  {
   "cell_type": "code",
   "execution_count": 16,
   "metadata": {},
   "outputs": [],
   "source": [
    "single_test_labels = []\n",
    "for i in range(len(test_labels)):\n",
    "    if(test_labels[i][0]==0):\n",
    "        single_test_labels.append(0.) \n",
    "    else:\n",
    "        single_test_labels.append(1.)\n",
    "single_test_labels= np.array(single_test_labels)        \n",
    "    \n",
    "# print(single_test_labels)\n"
   ]
  },
  {
   "cell_type": "code",
   "execution_count": 17,
   "metadata": {},
   "outputs": [
    {
     "name": "stdout",
     "output_type": "stream",
     "text": [
      "Accuracy: 0.946000\n",
      "Precision: 0.951613\n",
      "Recall: 0.940239\n",
      "F1 score: 0.945892\n"
     ]
    }
   ],
   "source": [
    "from sklearn.metrics import accuracy_score\n",
    "from sklearn.metrics import precision_score\n",
    "from sklearn.metrics import recall_score\n",
    "from sklearn.metrics import f1_score\n",
    "from sklearn.metrics import cohen_kappa_score\n",
    "from sklearn.metrics import roc_auc_score\n",
    "from sklearn.metrics import confusion_matrix\n",
    "# accuracy: (tp + tn) / (p + n)\n",
    "accuracy = accuracy_score(single_test_labels, yhat_classes)\n",
    "print('Accuracy: %f' % accuracy)\n",
    "# precision tp / (tp + fp)\n",
    "precision = precision_score(single_test_labels, yhat_classes)\n",
    "print('Precision: %f' % precision)\n",
    "# recall: tp / (tp + fn)\n",
    "recall = recall_score(single_test_labels, yhat_classes)\n",
    "print('Recall: %f' % recall)\n",
    "# f1: 2 tp / (2 tp + fp + fn)\n",
    "f1 = f1_score(single_test_labels, yhat_classes)\n",
    "print('F1 score: %f' % f1)\n"
   ]
  },
  {
   "cell_type": "code",
   "execution_count": 18,
   "metadata": {},
   "outputs": [],
   "source": [
    "def tokenize_text(text):\n",
    "    sequences = tokenizer.texts_to_sequences(text)\n",
    "    data = pad_sequences(sequences, maxlen=MAX_SEQUENCE_LENGTH)\n",
    "\n",
    "    return data"
   ]
  },
  {
   "cell_type": "code",
   "execution_count": 20,
   "metadata": {},
   "outputs": [],
   "source": [
    "def tokenize_text(text):\n",
    "    sequences = tokenizer.texts_to_sequences(text)\n",
    "    data = pad_sequences(sequences, maxlen=MAX_SEQUENCE_LENGTH)\n",
    "\n",
    "    return data"
   ]
  },
  {
   "cell_type": "code",
   "execution_count": null,
   "metadata": {},
   "outputs": [],
   "source": []
  },
  {
   "cell_type": "code",
   "execution_count": 16,
   "metadata": {},
   "outputs": [],
   "source": [
    "#Using LSTMS"
   ]
  },
  {
   "cell_type": "code",
   "execution_count": 16,
   "metadata": {},
   "outputs": [],
   "source": [
    "def LSTM_model(sequence_input, embedded_sequences, classes=2):\n",
    "    x = LSTM(32,return_sequences=True)(embedded_sequences)\n",
    "    x = LSTM(64,return_sequences=True)(x)\n",
    "    x = LSTM(128)(x)\n",
    "    x = Dense(4096,activation='relu')(x)\n",
    "    x = Dense(1024,activation='relu')(x)\n",
    "    preds = Dense(classes, activation='softmax')(x)\n",
    "\n",
    "    model = Model(sequence_input, preds)\n",
    "    return model"
   ]
  },
  {
   "cell_type": "code",
   "execution_count": 17,
   "metadata": {},
   "outputs": [
    {
     "name": "stdout",
     "output_type": "stream",
     "text": [
      "Model: \"model_1\"\n",
      "_________________________________________________________________\n",
      "Layer (type)                 Output Shape              Param #   \n",
      "=================================================================\n",
      "input_1 (InputLayer)         (None, 1500)              0         \n",
      "_________________________________________________________________\n",
      "embedding_2 (Embedding)      (None, 1500, 300)         49661400  \n",
      "_________________________________________________________________\n",
      "lstm_1 (LSTM)                (None, 1500, 32)          42624     \n",
      "_________________________________________________________________\n",
      "lstm_2 (LSTM)                (None, 1500, 64)          24832     \n",
      "_________________________________________________________________\n",
      "lstm_3 (LSTM)                (None, 128)               98816     \n",
      "_________________________________________________________________\n",
      "dense_1 (Dense)              (None, 4096)              528384    \n",
      "_________________________________________________________________\n",
      "dense_2 (Dense)              (None, 1024)              4195328   \n",
      "_________________________________________________________________\n",
      "dense_3 (Dense)              (None, 2)                 2050      \n",
      "=================================================================\n",
      "Total params: 54,553,434\n",
      "Trainable params: 4,892,034\n",
      "Non-trainable params: 49,661,400\n",
      "_________________________________________________________________\n",
      "None\n",
      "WARNING:tensorflow:From /home/lenovo/.local/lib/python3.7/site-packages/keras/backend/tensorflow_backend.py:422: The name tf.global_variables is deprecated. Please use tf.compat.v1.global_variables instead.\n",
      "\n",
      "Train on 9000 samples, validate on 500 samples\n",
      "Epoch 1/3\n",
      "9000/9000 [==============================] - 318s 35ms/step - loss: 0.4854 - acc: 0.7610 - val_loss: 0.3577 - val_acc: 0.8360\n",
      "Epoch 2/3\n",
      "9000/9000 [==============================] - 325s 36ms/step - loss: 0.3097 - acc: 0.8703 - val_loss: 0.2704 - val_acc: 0.8960\n",
      "Epoch 3/3\n",
      "9000/9000 [==============================] - 574s 64ms/step - loss: 0.2538 - acc: 0.8952 - val_loss: 0.2508 - val_acc: 0.9040\n"
     ]
    },
    {
     "data": {
      "text/plain": [
       "<keras.callbacks.callbacks.History at 0x7f16f3e3e610>"
      ]
     },
     "execution_count": 17,
     "metadata": {},
     "output_type": "execute_result"
    }
   ],
   "source": [
    "\n",
    "MAX_SEQUENCE_LENGTH=1500\n",
    "sequence_input = Input(shape=(MAX_SEQUENCE_LENGTH,), dtype='int32')\n",
    "embedded_sequences = embedding_layer(sequence_input)\n",
    "model = LSTM_model(sequence_input, embedded_sequences, classes=2)\n",
    "\n",
    "model.compile(loss='categorical_crossentropy',\n",
    "              optimizer='adamax',\n",
    "              metrics=['acc'])\n",
    "\n",
    "print(model.summary())\n",
    "\n",
    "model.fit(train_data, train_labels,\n",
    "          validation_data=(valid_data, valid_labels),\n",
    "          epochs=3, batch_size=64)"
   ]
  },
  {
   "cell_type": "code",
   "execution_count": 19,
   "metadata": {},
   "outputs": [
    {
     "name": "stdout",
     "output_type": "stream",
     "text": [
      "Loaded model from disk\n"
     ]
    }
   ],
   "source": [
    "\n",
    "# load json and create model\n",
    "json_file = open('lstm_model.json', 'r')\n",
    "loaded_model_json = json_file.read()\n",
    "json_file.close()\n",
    "model = model_from_json(loaded_model_json)\n",
    "# load weights into new model\n",
    "model.load_weights(\"lstm_model.h5\")\n",
    "print(\"Loaded model from disk\")"
   ]
  },
  {
   "cell_type": "code",
   "execution_count": 21,
   "metadata": {},
   "outputs": [],
   "source": [
    "model.compile(loss='categorical_crossentropy',\n",
    "              optimizer='adamax',\n",
    "              metrics=['acc'])"
   ]
  },
  {
   "cell_type": "code",
   "execution_count": 22,
   "metadata": {},
   "outputs": [
    {
     "name": "stdout",
     "output_type": "stream",
     "text": [
      "500/500 [==============================] - 11s 22ms/step\n"
     ]
    },
    {
     "data": {
      "text/plain": [
       "[0.20191344308853149, 0.9139999747276306]"
      ]
     },
     "execution_count": 22,
     "metadata": {},
     "output_type": "execute_result"
    }
   ],
   "source": [
    "model.evaluate(test_data, test_labels)"
   ]
  },
  {
   "cell_type": "code",
   "execution_count": 23,
   "metadata": {},
   "outputs": [],
   "source": [
    "yhat_probs = model.predict(test_data)"
   ]
  },
  {
   "cell_type": "code",
   "execution_count": 25,
   "metadata": {},
   "outputs": [],
   "source": [
    "yhat_classes = []\n",
    "for i in range(len(yhat_probs)):\n",
    "    if(yhat_probs[i][0]<.5):\n",
    "        yhat_classes.append(0.)\n",
    "    else:\n",
    "        yhat_classes.append(1.)\n",
    "    "
   ]
  },
  {
   "cell_type": "code",
   "execution_count": 26,
   "metadata": {},
   "outputs": [],
   "source": [
    "\n",
    "yhat_classes = np.array(yhat_classes)"
   ]
  },
  {
   "cell_type": "code",
   "execution_count": 27,
   "metadata": {},
   "outputs": [],
   "source": [
    "single_test_labels = []\n",
    "for i in range(len(test_labels)):\n",
    "    if(test_labels[i][0]==0):\n",
    "        single_test_labels.append(0.) \n",
    "    else:\n",
    "        single_test_labels.append(1.)\n",
    "single_test_labels= np.array(single_test_labels)        \n",
    "    "
   ]
  },
  {
   "cell_type": "code",
   "execution_count": 29,
   "metadata": {},
   "outputs": [],
   "source": [
    "def tokenize_text(text):\n",
    "    sequences = tokenizer.texts_to_sequences(text)\n",
    "    data = pad_sequences(sequences, maxlen=MAX_SEQUENCE_LENGTH)\n",
    "\n",
    "    return data"
   ]
  },
  {
   "cell_type": "code",
   "execution_count": 30,
   "metadata": {},
   "outputs": [
    {
     "name": "stdout",
     "output_type": "stream",
     "text": [
      "[[ 3.3264155 96.67359  ]]\n"
     ]
    }
   ],
   "source": [
    "#prediction on real time data\n",
    "f1 = open('scraping/article.txt', \"r\")\n",
    "text = f1.read()\n",
    "#tokenize\n",
    "tok = tokenize_text([text])\n",
    "pred = model.predict(tok) # % real %fake\n",
    "print(pred*100)\n"
   ]
  },
  {
   "cell_type": "code",
   "execution_count": 32,
   "metadata": {},
   "outputs": [],
   "source": [
    "# XG Boost\n",
    "from xgboost import XGBClassifier\n",
    "xgmodel = XGBClassifier(learning_rate = 0.05, n_estimators = 300, max_depth = 5)"
   ]
  },
  {
   "cell_type": "code",
   "execution_count": 48,
   "metadata": {},
   "outputs": [],
   "source": [
    "train_lables= train_labels[:,0]\n"
   ]
  },
  {
   "cell_type": "code",
   "execution_count": 50,
   "metadata": {},
   "outputs": [
    {
     "data": {
      "text/plain": [
       "XGBClassifier(base_score=0.5, booster=None, colsample_bylevel=1,\n",
       "              colsample_bynode=1, colsample_bytree=1, gamma=0, gpu_id=-1,\n",
       "              importance_type='gain', interaction_constraints=None,\n",
       "              learning_rate=0.05, max_delta_step=0, max_depth=5,\n",
       "              min_child_weight=1, missing=nan, monotone_constraints=None,\n",
       "              n_estimators=300, n_jobs=0, num_parallel_tree=1,\n",
       "              objective='binary:logistic', random_state=0, reg_alpha=0,\n",
       "              reg_lambda=1, scale_pos_weight=1, subsample=1, tree_method=None,\n",
       "              validate_parameters=False, verbosity=None)"
      ]
     },
     "execution_count": 50,
     "metadata": {},
     "output_type": "execute_result"
    }
   ],
   "source": [
    "xgmodel.fit(train_data, train_lables)"
   ]
  },
  {
   "cell_type": "code",
   "execution_count": 73,
   "metadata": {},
   "outputs": [
    {
     "name": "stdout",
     "output_type": "stream",
     "text": [
      "Saved model to disk\n"
     ]
    }
   ],
   "source": [
    "#pickle model and save\n",
    "import pickle\n",
    "pickle.dump(xgmodel, open('xg_model', 'wb'))\n",
    "print(\"Saved model to disk\")"
   ]
  },
  {
   "cell_type": "code",
   "execution_count": 76,
   "metadata": {},
   "outputs": [
    {
     "name": "stdout",
     "output_type": "stream",
     "text": [
      "loaded model from disk\n"
     ]
    }
   ],
   "source": [
    "# to load the saved model\n",
    "xgmodel = pickle.load(open('xg_model', 'rb'))\n",
    "print(\"loaded model from disk\")"
   ]
  },
  {
   "cell_type": "code",
   "execution_count": 52,
   "metadata": {},
   "outputs": [],
   "source": [
    "y_pred_xg = model.predict(test_data)"
   ]
  },
  {
   "cell_type": "code",
   "execution_count": 53,
   "metadata": {},
   "outputs": [],
   "source": [
    "test_lables = test_labels[:,0]"
   ]
  },
  {
   "cell_type": "code",
   "execution_count": 55,
   "metadata": {},
   "outputs": [
    {
     "data": {
      "text/plain": [
       "array([0., 0., 0., 0., 0., 0., 0., 1., 0., 1., 0., 0., 1., 1., 1., 0., 1.,\n",
       "       1., 1., 0., 1., 1., 1., 0., 1., 1., 1., 1., 1., 1., 1., 1., 0., 1.,\n",
       "       0., 1., 1., 0., 1., 0., 1., 0., 0., 1., 1., 0., 0., 0., 0., 0., 1.,\n",
       "       1., 0., 0., 0., 1., 1., 0., 1., 1., 1., 1., 1., 1., 0., 0., 0., 1.,\n",
       "       1., 0., 0., 0., 0., 0., 0., 0., 0., 0., 0., 1., 0., 0., 1., 1., 0.,\n",
       "       0., 0., 0., 0., 0., 0., 1., 1., 1., 1., 0., 1., 0., 1., 1., 1., 1.,\n",
       "       0., 0., 1., 0., 1., 0., 1., 1., 1., 1., 1., 1., 1., 1., 1., 1., 0.,\n",
       "       1., 0., 0., 0., 0., 1., 0., 0., 1., 1., 1., 1., 0., 0., 0., 0., 0.,\n",
       "       0., 1., 1., 0., 0., 0., 1., 0., 0., 1., 1., 1., 1., 1., 1., 1., 0.,\n",
       "       0., 0., 0., 1., 0., 1., 1., 1., 0., 0., 0., 1., 0., 1., 0., 1., 1.,\n",
       "       0., 1., 1., 0., 1., 1., 1., 0., 0., 1., 1., 1., 0., 1., 1., 0., 1.,\n",
       "       1., 1., 1., 0., 0., 0., 1., 0., 0., 0., 1., 0., 0., 0., 1., 0., 1.,\n",
       "       1., 1., 0., 1., 0., 0., 1., 1., 1., 0., 1., 1., 0., 1., 1., 0., 1.,\n",
       "       1., 1., 1., 1., 0., 1., 1., 0., 0., 0., 1., 1., 0., 0., 1., 1., 1.,\n",
       "       0., 1., 0., 1., 1., 0., 0., 1., 1., 0., 0., 0., 1., 1., 0., 1., 1.,\n",
       "       1., 1., 1., 0., 0., 0., 1., 0., 1., 1., 1., 1., 1., 0., 1., 1., 0.,\n",
       "       1., 0., 0., 0., 0., 1., 0., 0., 1., 1., 1., 0., 0., 1., 0., 1., 1.,\n",
       "       1., 0., 1., 0., 1., 1., 0., 1., 1., 1., 1., 1., 1., 1., 0., 1., 0.,\n",
       "       0., 0., 1., 0., 1., 1., 0., 0., 1., 0., 1., 1., 1., 0., 1., 1., 1.,\n",
       "       0., 1., 0., 1., 1., 0., 0., 0., 1., 0., 0., 1., 1., 0., 0., 1., 1.,\n",
       "       0., 0., 0., 0., 0., 1., 0., 1., 1., 0., 0., 0., 0., 1., 0., 0., 1.,\n",
       "       1., 1., 1., 1., 1., 1., 0., 1., 1., 1., 1., 1., 0., 0., 0., 0., 0.,\n",
       "       1., 1., 1., 1., 1., 1., 0., 0., 1., 0., 1., 0., 0., 0., 1., 0., 0.,\n",
       "       0., 0., 0., 0., 0., 0., 0., 1., 0., 1., 1., 0., 0., 1., 1., 1., 1.,\n",
       "       1., 1., 0., 1., 1., 1., 1., 0., 0., 0., 1., 1., 1., 1., 1., 1., 1.,\n",
       "       0., 1., 0., 0., 0., 0., 1., 0., 0., 1., 0., 0., 0., 1., 1., 1., 0.,\n",
       "       1., 0., 1., 1., 0., 0., 1., 1., 0., 1., 0., 1., 1., 0., 1., 1., 0.,\n",
       "       0., 0., 1., 1., 1., 0., 0., 1., 1., 0., 0., 1., 0., 1., 0., 0., 0.,\n",
       "       1., 0., 0., 0., 1., 1., 1., 0., 1., 1., 0., 0., 1., 1., 1., 0., 0.,\n",
       "       1., 1., 0., 1., 0., 0., 0.], dtype=float32)"
      ]
     },
     "execution_count": 55,
     "metadata": {},
     "output_type": "execute_result"
    }
   ],
   "source": [
    "test_lables"
   ]
  },
  {
   "cell_type": "code",
   "execution_count": 60,
   "metadata": {},
   "outputs": [],
   "source": [
    "y_pred_xgs = y_pred_xg[:,0]"
   ]
  },
  {
   "cell_type": "code",
   "execution_count": 62,
   "metadata": {},
   "outputs": [
    {
     "name": "stdout",
     "output_type": "stream",
     "text": [
      "[7.06128357e-03 6.19744062e-02 3.20575642e-03 1.35253310e-01\n",
      " 5.81706390e-02 6.31131828e-02 7.70273182e-05 9.92321908e-01\n",
      " 7.16926530e-02 9.98265207e-01 5.49906977e-02 4.14338941e-03\n",
      " 9.63496804e-01 9.59134877e-01 9.97518301e-01 1.45598352e-01\n",
      " 9.45894539e-01 9.87194240e-01 9.96788144e-01 1.97124124e-01\n",
      " 9.93692875e-01 9.44889188e-01 9.83600676e-01 1.44483633e-02\n",
      " 9.98581767e-01 7.68124938e-01 8.00622821e-01 9.98526931e-01\n",
      " 9.98930752e-01 9.98025894e-01 9.95991409e-01 9.99679804e-01\n",
      " 5.61084561e-02 9.95866776e-01 6.75858408e-02 6.65202916e-01\n",
      " 9.34808850e-01 1.66921678e-03 9.71512496e-01 1.21723123e-01\n",
      " 6.92266881e-01 1.41029134e-01 1.79453418e-02 9.93019760e-01\n",
      " 9.38822091e-01 8.72700959e-02 6.05307927e-04 9.15731653e-05\n",
      " 3.29608135e-02 9.76769626e-02 1.10870332e-01 2.61345506e-01\n",
      " 1.74674860e-04 1.04473397e-01 3.04621691e-03 2.42952928e-01\n",
      " 8.01896930e-01 5.43020703e-02 5.17410114e-02 9.93243992e-01\n",
      " 9.67754602e-01 9.83128726e-01 8.43378603e-01 9.60045397e-01\n",
      " 3.71625624e-03 1.70327425e-01 8.87930095e-02 7.85511911e-01\n",
      " 9.96568084e-01 1.16430251e-02 9.24814522e-01 2.02622622e-01\n",
      " 6.08852133e-04 1.35219485e-01 2.72265431e-02 3.18693034e-02\n",
      " 1.76790878e-01 4.78766579e-03 1.89900410e-03 9.92561162e-01\n",
      " 2.62942668e-02 8.52955222e-01 9.90209103e-01 9.59520638e-01\n",
      " 6.15481623e-02 5.16194940e-01 5.13045527e-02 1.21312447e-01\n",
      " 1.80143572e-04 2.69001145e-02 4.84525412e-02 9.94164288e-01\n",
      " 6.34682417e-01 9.94291067e-01 9.99583304e-01 2.43734807e-01\n",
      " 9.63595569e-01 1.89035609e-01 9.19146001e-01 9.96181488e-01\n",
      " 9.52992320e-01 9.95373547e-01 7.51043335e-02 2.88568158e-03\n",
      " 1.01541057e-01 1.71251073e-01 9.89305139e-01 5.31277284e-02\n",
      " 3.05547208e-01 9.97170150e-01 9.78184044e-01 9.80019033e-01\n",
      " 8.51705968e-01 9.97937083e-01 9.98657346e-01 9.49006677e-01\n",
      " 3.44196670e-02 9.62306440e-01 1.14557698e-01 9.88644361e-01\n",
      " 1.81850821e-01 8.64674449e-02 8.30714852e-02 1.26862191e-02\n",
      " 1.71334937e-01 5.87498918e-02 4.66200858e-02 9.97181296e-01\n",
      " 9.89405930e-01 9.46509421e-01 9.98342037e-01 4.64121513e-02\n",
      " 2.71619529e-01 6.03960901e-02 5.29404357e-02 1.48016080e-01\n",
      " 1.60242036e-01 9.97433245e-01 8.83907437e-01 8.66160318e-02\n",
      " 1.51136383e-01 6.67552054e-02 9.96365786e-01 1.54661117e-04\n",
      " 1.52929817e-04 3.81676465e-01 9.97840524e-01 9.97828662e-01\n",
      " 9.96544778e-01 9.59883392e-01 9.99452770e-01 9.90190387e-01\n",
      " 4.51429887e-03 4.56684036e-03 1.11530758e-02 1.31010846e-03\n",
      " 9.97769952e-01 4.22607288e-02 9.59533989e-01 7.51438439e-01\n",
      " 8.17709267e-01 1.95023507e-01 2.17425935e-02 1.25710079e-02\n",
      " 9.97591019e-01 1.84078105e-02 9.40261722e-01 1.67372711e-02\n",
      " 9.34329331e-01 9.71133769e-01 7.94997811e-02 9.76012945e-01\n",
      " 9.99958158e-01 2.92563587e-01 9.95993018e-01 9.77268159e-01\n",
      " 5.34976840e-01 3.82554531e-02 2.47184977e-01 2.31852576e-01\n",
      " 9.76468682e-01 9.98600662e-01 8.28404427e-01 3.34273607e-01\n",
      " 3.56780499e-01 3.70497117e-03 9.84289706e-01 9.90424573e-01\n",
      " 9.97424245e-01 9.67393875e-01 6.16228729e-02 3.00014671e-02\n",
      " 3.54142636e-02 9.98212814e-01 6.40311018e-02 3.57665122e-01\n",
      " 6.58467859e-02 9.78270411e-01 6.72834516e-02 3.25025380e-01\n",
      " 3.18916552e-02 9.80026364e-01 1.82155043e-01 3.22435051e-01\n",
      " 9.99717534e-01 9.97994184e-01 9.40226912e-02 9.97592628e-01\n",
      " 6.97974563e-02 8.08758661e-02 9.63369548e-01 6.78830028e-01\n",
      " 9.93617773e-01 8.16017687e-02 9.12869334e-01 3.68096888e-01\n",
      " 8.46600905e-03 9.97841597e-01 9.99698758e-01 1.28879219e-01\n",
      " 9.98528004e-01 9.99870420e-01 9.95185316e-01 2.22021177e-01\n",
      " 9.93184030e-01 7.52604678e-02 9.78718162e-01 1.09941229e-01\n",
      " 6.53843731e-02 1.45860955e-01 3.20386626e-02 9.87153471e-01\n",
      " 9.95044589e-01 4.56038909e-03 1.15499243e-01 7.67548561e-01\n",
      " 9.89808217e-02 9.99545872e-01 6.28956407e-02 9.52675104e-01\n",
      " 6.35689412e-06 2.13539392e-01 9.91911352e-01 8.38093907e-02\n",
      " 2.09734574e-01 8.13395083e-01 9.97872233e-01 9.35619324e-02\n",
      " 2.94618290e-02 4.93507646e-02 9.78264034e-01 4.27617669e-01\n",
      " 3.81475687e-03 9.38385606e-01 9.86369729e-01 9.98962879e-01\n",
      " 1.75065815e-01 9.89819229e-01 3.48391458e-02 2.23147590e-03\n",
      " 2.10776180e-02 9.93882656e-01 2.86943376e-01 9.98854399e-01\n",
      " 9.45838571e-01 9.89485443e-01 8.16722691e-01 9.99858499e-01\n",
      " 1.11239813e-01 9.95110929e-01 9.97430742e-01 1.66319236e-01\n",
      " 9.96826708e-01 1.07627429e-01 1.05221003e-01 1.84747115e-01\n",
      " 1.00015745e-01 9.89937425e-01 5.59489263e-06 9.10362959e-01\n",
      " 9.81430113e-01 9.98163879e-01 9.99387622e-01 4.54144590e-02\n",
      " 4.32669967e-02 9.99938130e-01 3.71175967e-02 1.24733657e-01\n",
      " 9.78110909e-01 9.97998416e-01 1.08140111e-01 9.99828339e-01\n",
      " 1.26038402e-01 9.92487192e-01 7.44482636e-01 4.66298163e-02\n",
      " 9.98589218e-01 3.17217916e-01 7.25606233e-02 1.09061517e-01\n",
      " 9.70401406e-01 9.34315324e-01 8.89526427e-01 5.68272136e-02\n",
      " 9.98772562e-01 7.17723975e-04 1.04664348e-01 5.82024790e-02\n",
      " 9.96624231e-01 1.28855268e-02 9.92451251e-01 9.71381426e-01\n",
      " 3.43187153e-02 7.48263847e-05 9.97721374e-01 1.30094156e-01\n",
      " 9.92216825e-01 6.47334397e-01 9.99275863e-01 1.02239907e-01\n",
      " 9.96405244e-01 9.61441517e-01 9.98911619e-01 1.89103149e-02\n",
      " 9.92655277e-01 1.78973734e-01 3.05300087e-01 5.32424688e-01\n",
      " 2.69960030e-04 2.29045074e-03 6.52239705e-03 9.94805515e-01\n",
      " 5.34721985e-02 5.36622293e-02 9.90251303e-01 9.97760296e-01\n",
      " 1.32222146e-01 6.16615154e-02 5.32977343e-01 9.91613030e-01\n",
      " 8.71956255e-03 2.04306399e-03 3.40523105e-03 3.38319331e-01\n",
      " 2.25205952e-03 8.10771167e-01 6.95506454e-01 8.74117792e-01\n",
      " 9.91885304e-01 1.63226917e-01 1.13234438e-01 2.97078520e-01\n",
      " 8.25607553e-02 9.74805057e-01 1.99705020e-01 5.01368660e-03\n",
      " 9.99665022e-01 9.88973200e-01 9.84911919e-01 9.72578108e-01\n",
      " 9.19567168e-01 1.96241468e-01 9.99009013e-01 2.41091162e-01\n",
      " 1.52517289e-01 9.84685421e-01 9.99613583e-01 9.99949455e-01\n",
      " 8.86103213e-01 1.58371136e-01 1.65418029e-01 2.95080710e-02\n",
      " 1.08114874e-03 1.93308806e-05 2.53737837e-01 9.36915755e-01\n",
      " 9.99341190e-01 9.99976277e-01 9.96649325e-01 3.80900443e-01\n",
      " 1.33948289e-02 2.08409652e-01 9.94598746e-01 4.69244346e-02\n",
      " 9.38440621e-01 3.41628515e-03 4.06194270e-01 1.05311893e-01\n",
      " 9.98673558e-01 5.80438197e-01 1.15206152e-04 1.25999497e-02\n",
      " 1.62009019e-02 3.98480803e-01 4.31203563e-03 4.96061146e-03\n",
      " 9.44113173e-03 2.38722079e-02 9.99487281e-01 4.38984595e-02\n",
      " 9.61075723e-01 9.74601984e-01 3.97488773e-02 1.11184999e-01\n",
      " 9.73990023e-01 9.90196228e-01 9.93263185e-01 9.86176431e-01\n",
      " 3.17629397e-01 9.77945566e-01 7.23047182e-02 9.98346448e-01\n",
      " 9.99031425e-01 9.96653378e-01 9.19540048e-01 1.14756301e-01\n",
      " 3.98333997e-01 1.23114334e-02 9.95145023e-01 9.99650121e-01\n",
      " 9.24148142e-01 9.93782103e-01 4.16492760e-01 3.68860573e-01\n",
      " 8.12136710e-01 1.48303676e-02 9.99515772e-01 2.24302174e-03\n",
      " 1.96355954e-01 1.53455272e-01 3.83721620e-01 9.98981655e-01\n",
      " 1.87518597e-02 1.78854037e-02 9.77885187e-01 4.64092754e-03\n",
      " 9.14220436e-05 1.40204102e-01 9.76294994e-01 6.32417858e-01\n",
      " 8.72704089e-01 1.00821592e-01 9.11745727e-01 1.07339937e-02\n",
      " 6.70208752e-01 9.93660510e-01 5.58747631e-03 2.16852059e-03\n",
      " 9.97287154e-01 9.97903824e-01 3.60039845e-02 6.83736980e-01\n",
      " 2.29497254e-02 9.98017907e-01 7.70215571e-01 7.88790658e-02\n",
      " 9.97703373e-01 9.96989071e-01 2.20597595e-01 2.31241845e-02\n",
      " 9.65151638e-02 9.99447882e-01 8.68176579e-01 9.98964667e-01\n",
      " 6.68566227e-02 3.24000642e-02 9.99200404e-01 9.91057396e-01\n",
      " 2.52656698e-01 1.85350116e-04 9.98579979e-01 1.21923074e-01\n",
      " 9.94243801e-01 4.85668220e-02 2.28725985e-01 1.66476414e-01\n",
      " 4.91422027e-01 2.01970518e-01 7.11055323e-02 6.13693856e-02\n",
      " 9.93085384e-01 9.93788660e-01 3.88536096e-01 8.97843316e-02\n",
      " 9.77594018e-01 9.57003474e-01 1.49109517e-04 8.13372210e-02\n",
      " 9.91467834e-01 9.95867372e-01 9.45591927e-01 5.37854917e-02\n",
      " 1.71977416e-01 9.98498440e-01 9.90257382e-01 5.73513322e-02\n",
      " 2.16961399e-01 7.45906159e-02 4.63034399e-02 8.30499351e-01]\n"
     ]
    }
   ],
   "source": [
    "print(y_pred_xgs)"
   ]
  },
  {
   "cell_type": "code",
   "execution_count": 64,
   "metadata": {},
   "outputs": [
    {
     "name": "stdout",
     "output_type": "stream",
     "text": [
      "[[228   8]\n",
      " [ 35 229]]\n"
     ]
    }
   ],
   "source": [
    "print(confusion_matrix(test_lables, y_pred_xgs.round(),normalize=None))"
   ]
  },
  {
   "cell_type": "code",
   "execution_count": 70,
   "metadata": {},
   "outputs": [
    {
     "name": "stdout",
     "output_type": "stream",
     "text": [
      "Accuracy: 0.914000\n",
      "Precision: 0.966245\n",
      "Recall: 0.867424\n",
      "F1 score: 0.914172\n"
     ]
    }
   ],
   "source": [
    "from sklearn.metrics import accuracy_score\n",
    "from sklearn.metrics import precision_score\n",
    "from sklearn.metrics import recall_score\n",
    "from sklearn.metrics import f1_score\n",
    "from sklearn.metrics import cohen_kappa_score\n",
    "from sklearn.metrics import roc_auc_score\n",
    "from sklearn.metrics import confusion_matrix\n",
    "# accuracy: (tp + tn) / (p + n)\n",
    "accuracy = accuracy_score(test_lables, y_pred_xgs.round())\n",
    "print('Accuracy: %f' % accuracy)\n",
    "# precision tp / (tp + fp)\n",
    "precision = precision_score(test_lables, y_pred_xgs.round())\n",
    "print('Precision: %f' % precision)\n",
    "# recall: tp / (tp + fn)\n",
    "recall = recall_score(test_lables, y_pred_xgs.round())\n",
    "print('Recall: %f' % recall)\n",
    "# f1: 2 tp / (2 tp + fp + fn)\n",
    "f1 = f1_score(test_lables, y_pred_xgs.round())\n",
    "print('F1 score: %f' % f1)"
   ]
  },
  {
   "cell_type": "code",
   "execution_count": 77,
   "metadata": {},
   "outputs": [
    {
     "name": "stdout",
     "output_type": "stream",
     "text": [
      "[100.]\n"
     ]
    }
   ],
   "source": [
    "#prediction on real time data\n",
    "f1 = open('scraping/article.txt', \"r\")\n",
    "text = f1.read()\n",
    "#tokenize\n",
    "tok = tokenize_text([text])\n",
    "pred = xgmodel.predict(tok) # % real %fake\n",
    "print(pred*100)\n"
   ]
  },
  {
   "cell_type": "code",
   "execution_count": null,
   "metadata": {},
   "outputs": [],
   "source": []
  }
 ],
 "metadata": {
  "kernelspec": {
   "display_name": "Python 3",
   "language": "python",
   "name": "python3"
  },
  "language_info": {
   "codemirror_mode": {
    "name": "ipython",
    "version": 3
   },
   "file_extension": ".py",
   "mimetype": "text/x-python",
   "name": "python",
   "nbconvert_exporter": "python",
   "pygments_lexer": "ipython3",
   "version": "3.7.5"
  }
 },
 "nbformat": 4,
 "nbformat_minor": 2
}
