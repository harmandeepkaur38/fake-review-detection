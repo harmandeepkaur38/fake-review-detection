{
 "cells": [
  {
   "cell_type": "code",
   "execution_count": 1,
   "metadata": {},
   "outputs": [],
   "source": [
    "\n",
    "def find_related_urls(title):\n",
    "    \"\"\"\n",
    "    biggest innovation!\n",
    "    args: title of article\n",
    "    returns: links of  most related articles from trusted sources\n",
    "    \"\"\"\n",
    "    try: \n",
    "        from googlesearch import search \n",
    "    except ImportError:  \n",
    "        print(\"No module named 'google' found\") \n",
    "    \n",
    "    print(title)\n",
    "    related_urls = []\n",
    "    # to search \n",
    "    query1 = \"ndtv: \"+ title\n",
    "    query2 = \"timesofindia: \"+title\n",
    "    query3 = \"hindustantimes: \" + title\n",
    "    print(\"related urls extracted from trusted sources\")\n",
    "    for q in search(query1, tld=\"com\", num=10, stop=1, pause=2): \n",
    "        print(q)\n",
    "        related_urls.append(q)\n",
    "    for r in search(query2, tld=\"co.in\", num=10, stop=1, pause=2): \n",
    "        print(r)\n",
    "        related_urls.append(r)\n",
    "    for s in search(query3, tld=\"com\", num=10, stop=1, pause=2): \n",
    "        print(s)\n",
    "        related_urls.append(s)\n",
    "#     print(related_urls)\n",
    "    return related_urls\n",
    "        "
   ]
  },
  {
   "cell_type": "code",
   "execution_count": 3,
   "metadata": {},
   "outputs": [
    {
     "name": "stdout",
     "output_type": "stream",
     "text": [
      "\"Corona virus updates\"\n",
      "related urls extracted from trusted sources\n",
      "https://khabar.ndtv.com/news/india/corona-virus-updates-haryana-govt-to-send-jail-inmates-on-parole-amid-covid-19-2200880\n",
      "https://timesofindia.indiatimes.com/coronavirus/india/mumbai\n",
      "https://marathi.hindustantimes.com/tags/corona-virus-updates\n"
     ]
    },
    {
     "data": {
      "text/plain": [
       "['https://khabar.ndtv.com/news/india/corona-virus-updates-haryana-govt-to-send-jail-inmates-on-parole-amid-covid-19-2200880',\n",
       " 'https://timesofindia.indiatimes.com/coronavirus/india/mumbai',\n",
       " 'https://marathi.hindustantimes.com/tags/corona-virus-updates']"
      ]
     },
     "execution_count": 3,
     "metadata": {},
     "output_type": "execute_result"
    }
   ],
   "source": [
    "file = open(\"user_query.txt\") #file containes the topic user wants to read\n",
    "query = file.read()\n",
    "find_related_urls(query)"
   ]
  },
  {
   "cell_type": "code",
   "execution_count": null,
   "metadata": {},
   "outputs": [],
   "source": []
  }
 ],
 "metadata": {
  "kernelspec": {
   "display_name": "Python 3",
   "language": "python",
   "name": "python3"
  },
  "language_info": {
   "codemirror_mode": {
    "name": "ipython",
    "version": 3
   },
   "file_extension": ".py",
   "mimetype": "text/x-python",
   "name": "python",
   "nbconvert_exporter": "python",
   "pygments_lexer": "ipython3",
   "version": "3.7.5"
  }
 },
 "nbformat": 4,
 "nbformat_minor": 2
}
